{
 "cells": [
  {
   "cell_type": "code",
   "execution_count": 1,
   "metadata": {},
   "outputs": [],
   "source": [
    "import numpy as np\n",
    "import pandas as pd\n",
    "import matplotlib.pyplot as plt\n",
    "%matplotlib inline"
   ]
  },
  {
   "cell_type": "markdown",
   "metadata": {},
   "source": [
    "# Linear Regression\n",
    "\n",
    "\n",
    "This Jupyter notebook contains an outline of the theory behind the linear regression algorithm. Here we will discuss and implement the linear regression model using the traditional linear algebra approach. The idea is to understand the algorithm as a whole. \n",
    "\n",
    "Nowadays a resercher interested in implementing a linear regression model (or others) can make use of API's. All he/she has to do is to instantiate the desired object and use the methods to fit the data and make predictions. Although this is very convenient, the researcher might not understand what is going on inside the algorithm, what it is computing, or even find sources of errors. Even worse, the researcher might not understand the assumptions and limitations of the algorithm and could naively apply it to cases in which the assumptions are not valid. \n",
    "\n",
    "This humble step by step implementation forces the researcher to write and understand the code. It also forces him/her to check if the assumptions make sense. Only after the implementation is complete we will discuss the use of API's. Not always the programmer writes the fastest codes, and API's are in general efficient. But it is much better to lose a little of speed processing ang gain more certainty.\n",
    "\n",
    "### Disclaimer\n",
    "\n",
    "These codes are not meant to be fully original. Although some functions were created by me, others were inspired and adapted from different sources. "
   ]
  },
  {
   "cell_type": "markdown",
   "metadata": {
    "collapsed": true
   },
   "source": [
    "# Assumptions of linear regression model\n",
    "\n",
    "There are two main assumptions in the linear regression model:\n",
    "\n",
    " **1. Linear dependence**: The dependent variable and the explanatory variables have a linear relationship. Before fitting the model the researcher must plot the dependent variable in terms of the explanatory variables in order to check if there is a visible linear relationship.\n",
    " \n",
    " \n",
    " **2. Normally distributed residuals**: The residuals must follow a normal distibution, so $E[u_i] = 0$."
   ]
  },
  {
   "cell_type": "markdown",
   "metadata": {
    "collapsed": true
   },
   "source": [
    "# Estimation techniques\n",
    "\n",
    "The most common estimations techniques are:\n",
    "\n",
    " **1. Ordinary Least Squares**\n",
    " \n",
    " \n",
    " **2. Variations of OLS**: Generalized Least Squares, Penalized Least Squares, i.e., L1 (LASSO) and L2 (Ridge)\n",
    " \n",
    "In this discussion we will implement only the Ordinary Least Squares estimation using matrices rules."
   ]
  },
  {
   "cell_type": "markdown",
   "metadata": {},
   "source": [
    "# Theory\n",
    "\n",
    "We will create our own class to fit a linear regression model. In matrix form, a linear regression model is expressed as\n",
    "\n",
    "$$\n",
    "y = X \\beta + u.\\tag{1}\n",
    "$$\n",
    "\n",
    "In terms of its components we have\n",
    "\n",
    "$$\n",
    "\\begin{bmatrix}\n",
    "y_1\\\\\n",
    "y_2\\\\\n",
    ":\\\\\n",
    "y_n\\\\\n",
    "\\end{bmatrix} = \n",
    "\\begin{bmatrix}\n",
    "1 & x_{11} & x_{12} & ... & x_{1K} \\\\\n",
    "1 & x_{21} & x_{22} & ... & x_{2K}\\\\\n",
    ": & : & : & : & :\\\\\n",
    "1 & x_{n1} & x_{n2} & ... & x_{nK}\\\\\n",
    "\\end{bmatrix}\n",
    "\\begin{bmatrix}\n",
    "\\beta_0\\\\\n",
    "\\beta_1\\\\\n",
    ":\\\\\n",
    "\\beta_K\\\\\n",
    "\\end{bmatrix}\n",
    "+\n",
    "\\begin{bmatrix}\n",
    "u_1\\\\\n",
    "u_2\\\\\n",
    ":\\\\\n",
    "u_n\\\\\n",
    "\\end{bmatrix}, \\tag{2}\n",
    "$$\n",
    "\n",
    "where $y$ is the dependent variable, $X$ is the feature matrix whose values are the independent variables $x_{ij}$, and the error term is $u = y - X\\beta$. Here, $\\beta$ is the vector whose values are the angular coefficients of the linear regression for each dimension. \n",
    "\n",
    "The regression line is the one that minimizes the sum of quadratic residuals, denoted by $SQR$, and given by\n",
    "\n",
    "$$\n",
    "SQR(\\beta) = u^{T}u = (y - X\\beta)^{T}(y - X\\beta)\\tag{3}.\n",
    "$$\n",
    "\n",
    "Some authors refer to this as $RSS$ for residual sum of squares, or $RSS$ for sum of squared residuals. We must find $\\beta$ so that $SQR$ is minimum. In order to do so, we take the first derivative with respect to $\\beta$, make the result equal to zero, use matrices rules, and finally compute the coefficients as\n",
    "\n",
    "$$\n",
    "\\beta = (X^{T}X)^{-1}X^{T}y. \\tag{4}\n",
    "$$\n",
    "\n",
    "Let us show how this result is obtained. In equation form $SQR$ is written as\n",
    "\n",
    "$$\n",
    "SQR(\\beta) = \\left(y_{1} - (\\beta_0 + \\beta_1 x_{11} + ... + \\beta_K x_{1K})\\right)^{2} + ... + \\left(y_{n} - (\\beta_0 + \\beta_1 x_{n1} + ... + \\beta_K x_{nK})\\right)^{2}. \\tag{5}\n",
    "$$\n",
    "\n",
    "Let us take the first derivative of this expression with respect to $\\beta_0$:\n",
    "\n",
    "$$\n",
    "\\frac{\\partial SQR(\\beta)}{\\partial \\beta_0} = 2\\left(y_{1} - (\\beta_0 + \\beta_1 x_{11} + ... + \\beta_K x_{1K})\\right)(-1) + ... + 2\\left(y_{n} - (\\beta_0 + \\beta_1 x_{n1} + ... + \\beta_K x_{nK})\\right)(-1). \\tag{6}\n",
    "$$\n",
    "\n",
    "We can group this expression in order to rewrite it in matrix form as\n",
    "\n",
    "$$\n",
    "\\frac{\\partial SQR(\\beta)}{\\partial \\beta_0} = -2[1 ... 1](y - X\\beta). \\tag{7}\n",
    "$$\n",
    "\n",
    "Now, let us take the first derivative with respect to $\\beta_1$:\n",
    "\n",
    "$$\n",
    "\\frac{\\partial SQR(\\beta)}{\\partial \\beta_1} = 2\\left(y_{1} - (\\beta_0 + \\beta_1 x_{11} + ... + \\beta_K x_{1K})\\right)(-x_{11}) + ... + 2\\left(y_{n} - (\\beta_0 + \\beta_1 x_{n1} + ... + \\beta_K x_{nK})\\right)(-x_{n1}). \\tag{8}\n",
    "$$\n",
    "\n",
    "In matrix form we have\n",
    "\n",
    "$$\n",
    "\\frac{\\partial SQR(\\beta)}{\\partial \\beta_1} = -2[x_{11} ... x_{n1}](y - X\\beta). \\tag{9}\n",
    "$$\n",
    "\n",
    "We can easily generalize this computation and write the result in matrix form\n",
    "\n",
    "$$\n",
    "\\begin{bmatrix}\n",
    "\\frac{\\partial SQR(\\beta)}{\\partial \\beta_0}\\\\\n",
    "\\frac{\\partial SQR(\\beta)}{\\partial \\beta_1}\\\\\n",
    ":\\\\\n",
    "\\frac{\\partial SQR(\\beta)}{\\partial \\beta_n}\\\\\n",
    "\\end{bmatrix} = -2\n",
    "\\begin{bmatrix}\n",
    "1 & 1 & 1 & ... & 1 \\\\\n",
    "x_{11} & x_{21} & x_{31} & ... & x_{n1}\\\\\n",
    ": & : & : & : & :\\\\\n",
    "x_{1K} & x_{2K} & x_{3K} & ... & x_{nK}\\\\\n",
    "\\end{bmatrix}\n",
    "(y - X\\beta) = -2X^{T}(y - X\\beta). \\tag{10}\n",
    "$$\n",
    "\n",
    "Now, we set this result to zero and this gives\n",
    "\n",
    "$$\n",
    "-2X^{T}(y - X\\beta) = 0\\\\\n",
    "-2X^{T}y+2X^{T}X\\beta = 0\\\\\n",
    "\\Rightarrow 2X^{T}X\\beta = 2X^{T}y \\\\\n",
    "\\Rightarrow \\beta = (X^{T}X)^{-1} X^{T}y \\tag{11}\n",
    "$$\n",
    "\n",
    "Now, we need to prove that the second derivatives are positive for these values of beta. Taking the second derivatives of $SQR$ we obtain \n",
    "\n",
    "$$\n",
    "\\frac{\\partial^{2} SQR(\\beta)}{\\partial \\beta_{0}^{2}} = 2(-1)(-1) + ... + 2(-1)(-1). \\tag{12}\n",
    "$$\n",
    "\n",
    "$$\n",
    "\\frac{\\partial^{2} SQR(\\beta)}{\\partial \\beta_{1}^{2}} = 2(-x_{11})(-x_{11}) + ... + 2(-x_{n1})(-x_{n1}) = 2x_{11}^{2} + ... + 2x_{n1}^{2}. \\tag{13}\n",
    "$$\n",
    "\n",
    "We can generalize this result to obtain\n",
    "\n",
    "$$\n",
    "\\frac{\\partial^{2} SQR(\\beta)}{\\partial \\beta_{j}\\partial \\beta_{k}} = 2(x_{1j})(x_{1k}) + ... + 2(x_{nj})(x_{nk}). \\tag{14}\n",
    "$$\n",
    "\n",
    "This result is positive and independent of $\\beta$ which proves that $\\beta$ is the matrix of coefficients that minimize $SQR$. So, the straight line in the n-dimensional space whose coefficients are $\\beta$ represents our linear regression model!\n",
    "\n",
    "\n",
    "**A note about the intercept**: In order to include the intercept we must use the linear equation\n",
    "\n",
    "$$\n",
    "y = \\mathbb{1}\\beta_0 + X \\beta + u. \\tag{15}\n",
    "$$\n",
    "\n",
    "In general, we just input the matrix X and tell the code if we want a result that also fits the intercept, as we will do below.\n",
    "\n",
    "**A note about the gradient descent**: In general, matrix multiplication requires a lot of computing power. There is another way to estimate the vector $\\beta$ called the gradient descent method. This method will be discussed in a future opportunity."
   ]
  },
  {
   "cell_type": "markdown",
   "metadata": {
    "collapsed": true
   },
   "source": [
    "# Coefficient of determination $R^2$: Goodness of a fit\n",
    "\n",
    "In order to determine how good our model fits the data we use the $R^2$ coefficient. It is given by the equation\n",
    "\n",
    "$$\n",
    "R^2=1-\\frac{\\text{SSE}}{\\text{SST}}, \\tag{16}\n",
    "$$\n",
    "\n",
    "where $\\text{SSE}=\\sum_{i=1}^{N}(y_{i}-\\hat{y}_{i})^{2}$ and $\\text{SST}=\\sum_{i=1}^{N}(y_{i}-\\bar{y})^{2}$. Notice that in the definition of $\\text{SST}$ we used the average of the data $\\bar{y}=(1/N)\\sum_{i=1}^{N}y_{i}$.\n",
    "\n",
    " - Case 1: $R^{2}=1$. This implies that our model has $\\text{SSE}=0$, which is a perfect fit with the data.\n",
    " - Case 2: $R^{2}=0$. This implies that our model has $\\text{SSE}=\\text{SST}$. This shows that our model is as good as a model whose regression line is actually the mean of all data points, i.e. $\\hat{y}=\\bar{y}$.\n",
    " - Case 1: $R^{2}<0$. This implies that our model is worse than the model whose regression line is the mean of all data points.\n",
    " \n",
    "In a good regression model $R^{2}\\rightarrow 1$."
   ]
  },
  {
   "cell_type": "markdown",
   "metadata": {},
   "source": [
    "# Cross Validation\n",
    "\n",
    "The cross validation is a technique that splits the data into training set and test set. It is a good practice to choose the test set as a smaller percentage of the data. For the linear regression model, the training set corresponds to datapoints chosen randomly that will be used to fit the model. This means that the vector $\\beta$ will be determined using solely this set. After the algorithm learns what the vector $\\beta$ is during the training, we use the test set data to see if the model is making good predictions. The algorithm will use the function \"predict\", which accepts the features of the test data $X_\\text{test}$, and returns the predictions $\\hat{y}$. We then use a performance metrics to compare the predictions with the real values, i.e. $y_\\text{test}$. This will be of extreme importance in order to avoid overfitting problems. The most commonly used performance metrics for linear regression are discussed below.\n",
    "\n",
    "# Mean absolute error\n",
    "\n",
    "The mean absolute error is the averaged sum of the differences between the real values $y_{i}$ and the predicted values $\\hat{y}_{i}$. The closer the sum is to zero the better is the model. The formula is\n",
    "\n",
    "$$\n",
    "\\text{MAE} = \\frac{1}{n} \\sum_{i=1}^{n} |y_{i} - \\hat{y}_{i}|. \\tag{17}\n",
    "$$\n",
    "\n",
    "\n",
    "\n",
    "# Root mean squared error\n",
    "The root mean squared error is the square root of the averaged sum of the squared differences between the real values $y_{i}$ and the predicted values $\\hat{y}_{i}$. Just like the $\\text{MAE}$, the closer it is to zero the better is the model. The formula is\n",
    "\n",
    "$$\n",
    "\\text{RMSE} = \\sqrt{\\frac{1}{n} \\sum_{i=1}^{n} (y_{i} - \\hat{y}_{i})^{2}}. \\tag{18}\n",
    "$$"
   ]
  },
  {
   "cell_type": "markdown",
   "metadata": {},
   "source": [
    "# The Linear Regression Class"
   ]
  },
  {
   "cell_type": "markdown",
   "metadata": {},
   "source": [
    "We present the linear regression class below. Then we will show how each function works using simulated data."
   ]
  },
  {
   "cell_type": "code",
   "execution_count": 2,
   "metadata": {},
   "outputs": [],
   "source": [
    "class LinearRegression:\n",
    "    \"\"\"\n",
    "    Creates a model of the type linear regression\n",
    "    \n",
    "    \"\"\"\n",
    "    def __init__(self, fit_intercept=True):\n",
    "        \"\"\"\n",
    "        Initialize the parameters\n",
    "        \"\"\"\n",
    "        self.fit_intercept = fit_intercept\n",
    "        self.beta = None\n",
    "        self.intercept_ = None\n",
    "        self.coef_ = None\n",
    "    \n",
    "    def _prepare_features(self, x):\n",
    "        \"\"\"\n",
    "        Stacks horizontaly an array of ones in order to compute the coefficients including the intercept\n",
    "        Final shape is (x.shape[0], x.shape[1]+1)\n",
    "        \n",
    "        Input:\n",
    "        x - features array of dimensions nxK\n",
    "        \n",
    "        Output:\n",
    "        x - transformed array of dimensions nx(K+1)\n",
    "        \"\"\"\n",
    "        if self.fit_intercept:\n",
    "            \n",
    "            if x.shape == (x.shape[0],):\n",
    "                x = x.reshape((x.shape[0],1))\n",
    "            \n",
    "            x = np.hstack((np.ones((x.shape[0], 1)), x))\n",
    "        return x\n",
    "    \n",
    "    def fit(self, x_train, y_train):\n",
    "        \"\"\"\n",
    "        Fits the linear model, i.e. computes the straight line coefficients\n",
    "        \n",
    "        Inputs:\n",
    "            x_train: array of dimensions nxK\n",
    "            y_train: array of dimensions nx1\n",
    "        \n",
    "        \"\"\"\n",
    "        x = self._prepare_features(x_train) \n",
    "        \n",
    "        # If fit_intercept true, returns coefficients with intercept. Else, returns coefficients without intercept\n",
    "        self.beta = self.least_squares(x, y_train)\n",
    "        \n",
    "        # Separates the intercept from coefficients if necessary\n",
    "        if self.fit_intercept:\n",
    "            self.intercept_ = self.beta[0]\n",
    "            self.coef_ = self.beta[1:]\n",
    "        else:\n",
    "            self.coef_ = self.beta\n",
    "        \n",
    "    def predict(self, x_test):\n",
    "        \"\"\"\n",
    "        This function takes the features array of the test set and returns, uses the coefficients computed by the fit\n",
    "        function, and then it computes the predictions, i.e. the y values of the regression line\n",
    "        \n",
    "        Inputs:\n",
    "            x_test: array of dimensions nxK\n",
    "\n",
    "        Output:\n",
    "        Predictions of the dependent variable\n",
    "        \"\"\"\n",
    "        x = self._prepare_features(x_test)\n",
    "        return np.dot(x , self.beta)\n",
    "    \n",
    "    def fit_predict(self, x, y):\n",
    "        \"\"\"\n",
    "        This function returns the regression line for the given features\n",
    "        \n",
    "        Input:\n",
    "        x: array - features array\n",
    "        y: array - dependent variable array\n",
    "        \n",
    "        Output:\n",
    "        Linear regression for the entire model\n",
    "        \n",
    "        \"\"\"\n",
    "        self.fit(x, y)\n",
    "        return self.predict(x)\n",
    "    \n",
    "    \n",
    "    if __name__ == \"__main__\":\n",
    "\n",
    "        def least_squares(self, x, y):\n",
    "            \"\"\"\n",
    "            Computes the parameters of the linear regression model that minimizes the sum of the squared distance between\n",
    "            the real value of the dependent variable and the value of the straight line that fits the model.\n",
    "\n",
    "            Inputs:\n",
    "            x: array of dimensions nxK\n",
    "            y: array of dimensions nx1\n",
    "\n",
    "            Output:\n",
    "            array of dimensions nx1\n",
    "            \"\"\"\n",
    "\n",
    "            return np.dot(np.linalg.inv(np.dot(x.T , x)) , np.dot(x.T , y))\n",
    "        \n",
    "    def r_squared(self, x, y):\n",
    "        \"\"\"\n",
    "        Computes the determination coefficient R^2 of the linear regression model\n",
    "        \n",
    "        Inputs:\n",
    "            x: array of dimensions nxK\n",
    "            y: array of dimensions nx1\n",
    "\n",
    "        Output:\n",
    "        coeff: float - value of R^2\n",
    "        \"\"\"\n",
    "        \n",
    "        # fits the model\n",
    "        self.fit(x, y)\n",
    "        \n",
    "        # computes the regression line\n",
    "        yhat = self.fit_predict(x, y)\n",
    "        \n",
    "        # computes the mean\n",
    "        mean = y.mean()\n",
    "        \n",
    "        # computes the coefficient of determination\n",
    "        R_squared = 1 - (np.dot((y-yhat).T, (y-yhat))/np.dot((y-mean).T, (y-mean)))\n",
    "        \n",
    "        return R_squared\n",
    "    \n",
    "    def mean_absolute_error(self, x_train, y_train, x_test, y_test):\n",
    "        \"\"\"\n",
    "        Computes the mean absolute error\n",
    "        \n",
    "        Inputs:\n",
    "            x_train: array of dimensions nxK\n",
    "            y_train: array of dimensions nx1\n",
    "            x_test: array of dimensions nxK\n",
    "            y_test: array of dimensions nx1\n",
    "\n",
    "        Output:\n",
    "        mae: float - value of the mean absolute error\n",
    "        \"\"\"\n",
    "        \n",
    "        # fits the model\n",
    "        self.fit(x_train, y_train)\n",
    "        \n",
    "        # computes the regression line\n",
    "        yhat = self.predict(x_test)\n",
    "        \n",
    "        # computes the mean absolute error\n",
    "        mae = (1/len(y_test))*np.sum(np.abs(yhat - y_test))\n",
    "        \n",
    "        return mae\n",
    "    \n",
    "    def root_mean_squared_error(self, x_train, y_train, x_test, y_test):\n",
    "        \"\"\"\n",
    "        Computes the root mean squared error\n",
    "        \n",
    "        Inputs:\n",
    "            x_train: array of dimensions nxK\n",
    "            y_train: array of dimensions nx1\n",
    "            x_test: array of dimensions nxK\n",
    "            y_test: array of dimensions nx1\n",
    "\n",
    "        Output:\n",
    "        mae: float - value of the mean absolute error\n",
    "        \"\"\"\n",
    "        \n",
    "        # fits the model\n",
    "        self.fit(x_train, y_train)\n",
    "        \n",
    "        # computes the regression line\n",
    "        yhat = self.predict(x_test)\n",
    "        \n",
    "        # computes the mean absolute error\n",
    "        rmse = ((1/len(y_test))*np.sum((yhat - y_test)**2))**0.5\n",
    "        \n",
    "        return rmse"
   ]
  },
  {
   "cell_type": "markdown",
   "metadata": {},
   "source": [
    "# Testing with simulated data\n",
    "\n",
    "Consider the following simulated data:"
   ]
  },
  {
   "cell_type": "code",
   "execution_count": 3,
   "metadata": {},
   "outputs": [],
   "source": [
    "y = np.array([2 + x + np.sin(x) for x in range(40)])\n",
    "x = np.array(list(range(40)))"
   ]
  },
  {
   "cell_type": "markdown",
   "metadata": {},
   "source": [
    "Below, we can see that these points have an approximate linear dependence:"
   ]
  },
  {
   "cell_type": "code",
   "execution_count": 4,
   "metadata": {},
   "outputs": [
    {
     "data": {
      "text/plain": [
       "<matplotlib.collections.PathCollection at 0x1f41d535898>"
      ]
     },
     "execution_count": 4,
     "metadata": {},
     "output_type": "execute_result"
    },
    {
     "data": {
      "image/png": "[encoded data removed]",
      "text/plain": [
       "<Figure size 432x288 with 1 Axes>"
      ]
     },
     "metadata": {
      "needs_background": "light"
     },
     "output_type": "display_data"
    }
   ],
   "source": [
    "plt.scatter(x, y)"
   ]
  },
  {
   "cell_type": "markdown",
   "metadata": {},
   "source": [
    "Let us check whether our functions work and fit the data well. First, we create an instance and then fit the model:"
   ]
  },
  {
   "cell_type": "code",
   "execution_count": 5,
   "metadata": {},
   "outputs": [],
   "source": [
    "ex = LinearRegression()"
   ]
  },
  {
   "cell_type": "markdown",
   "metadata": {},
   "source": [
    "Let us split the data:"
   ]
  },
  {
   "cell_type": "code",
   "execution_count": 6,
   "metadata": {},
   "outputs": [],
   "source": [
    "X_train = x[:30]\n",
    "X_test = x[30:]\n",
    "y_train = y[:30]\n",
    "y_test = y[30:]"
   ]
  },
  {
   "cell_type": "code",
   "execution_count": 7,
   "metadata": {},
   "outputs": [],
   "source": [
    "ex.fit(X_train, y_train)"
   ]
  },
  {
   "cell_type": "markdown",
   "metadata": {},
   "source": [
    "The function predict will give us the values of the vertical axis that will represent the straight line."
   ]
  },
  {
   "cell_type": "code",
   "execution_count": 8,
   "metadata": {},
   "outputs": [],
   "source": [
    "Y = ex.predict(X_test)"
   ]
  },
  {
   "cell_type": "code",
   "execution_count": 9,
   "metadata": {},
   "outputs": [
    {
     "data": {
      "text/plain": [
       "array([31.98105079, 32.9771012 , 33.97315161, 34.96920202, 35.96525244,\n",
       "       36.96130285, 37.95735326, 38.95340367, 39.94945408, 40.9455045 ])"
      ]
     },
     "execution_count": 9,
     "metadata": {},
     "output_type": "execute_result"
    }
   ],
   "source": [
    "Y"
   ]
  },
  {
   "cell_type": "markdown",
   "metadata": {},
   "source": [
    "Now, we plot both the data and the straight line. We can see that our model fits the data very well."
   ]
  },
  {
   "cell_type": "code",
   "execution_count": 10,
   "metadata": {},
   "outputs": [
    {
     "data": {
      "text/plain": [
       "[<matplotlib.lines.Line2D at 0x1f41d5b4208>]"
      ]
     },
     "execution_count": 10,
     "metadata": {},
     "output_type": "execute_result"
    },
    {
     "data": {
      "image/png": "[encoded data removed]",
      "text/plain": [
       "<Figure size 432x288 with 1 Axes>"
      ]
     },
     "metadata": {
      "needs_background": "light"
     },
     "output_type": "display_data"
    }
   ],
   "source": [
    "plt.scatter(X_test, y_test)\n",
    "plt.plot(X_test, Y)"
   ]
  },
  {
   "cell_type": "markdown",
   "metadata": {},
   "source": [
    "We expect the $R^2$ factor close to one. In fact we have:"
   ]
  },
  {
   "cell_type": "code",
   "execution_count": 11,
   "metadata": {},
   "outputs": [
    {
     "data": {
      "text/plain": [
       "0.9935514577827103"
      ]
     },
     "execution_count": 11,
     "metadata": {},
     "output_type": "execute_result"
    }
   ],
   "source": [
    "ex.r_squared(X_train, y_train)"
   ]
  },
  {
   "cell_type": "markdown",
   "metadata": {},
   "source": [
    "Let us compute the mean absolute error and the root mean squared error:"
   ]
  },
  {
   "cell_type": "code",
   "execution_count": 12,
   "metadata": {},
   "outputs": [
    {
     "name": "stdout",
     "output_type": "stream",
     "text": [
      "MAE is  0.6823801233444566 .\n",
      "RMSE is  0.7324761547610115 .\n"
     ]
    }
   ],
   "source": [
    "print(\"MAE is \", ex.mean_absolute_error(X_train, y_train, X_test, y_test), \".\")\n",
    "\n",
    "print(\"RMSE is \", ex.root_mean_squared_error(X_train, y_train, X_test, y_test), \".\")"
   ]
  },
  {
   "cell_type": "markdown",
   "metadata": {},
   "source": [
    "This value must be compared to other linear regression models and the smallest one represent the best model."
   ]
  },
  {
   "cell_type": "markdown",
   "metadata": {},
   "source": [
    "# Implementation with ScikitLearn\n",
    "\n",
    "Let us now compare our results with the ones we would obtain with scikitlearn."
   ]
  },
  {
   "cell_type": "code",
   "execution_count": 13,
   "metadata": {},
   "outputs": [],
   "source": [
    "from sklearn.linear_model import LinearRegression\n",
    "from sklearn.metrics import mean_squared_error\n",
    "from sklearn.metrics import mean_absolute_error"
   ]
  },
  {
   "cell_type": "code",
   "execution_count": 14,
   "metadata": {},
   "outputs": [],
   "source": [
    "#machine learing handle arrays\n",
    "X_sk_train = np.array(X_train).reshape(-1,1)\n",
    "y_sk_train = np.array(y_train).reshape(-1,1)\n",
    "X_sk_test = np.array(X_test).reshape(-1,1)\n",
    "y_sk_test = np.array(y_test).reshape(-1,1)"
   ]
  },
  {
   "cell_type": "code",
   "execution_count": 15,
   "metadata": {},
   "outputs": [
    {
     "data": {
      "text/plain": [
       "LinearRegression(copy_X=True, fit_intercept=True, n_jobs=None,\n",
       "         normalize=False)"
      ]
     },
     "execution_count": 15,
     "metadata": {},
     "output_type": "execute_result"
    }
   ],
   "source": [
    "#we use Linear Regression + fit() is the training\n",
    "model_sk = LinearRegression()\n",
    "model_sk.fit(X_sk_train, y_sk_train)"
   ]
  },
  {
   "cell_type": "code",
   "execution_count": 16,
   "metadata": {},
   "outputs": [],
   "source": [
    "sk_ypred = model_sk.predict(X_sk_test)"
   ]
  },
  {
   "cell_type": "code",
   "execution_count": 17,
   "metadata": {
    "scrolled": true
   },
   "outputs": [
    {
     "data": {
      "text/plain": [
       "[<matplotlib.lines.Line2D at 0x1f41ff3ee80>]"
      ]
     },
     "execution_count": 17,
     "metadata": {},
     "output_type": "execute_result"
    },
    {
     "data": {
      "image/png": "[encoded data removed]",
      "text/plain": [
       "<Figure size 432x288 with 1 Axes>"
      ]
     },
     "metadata": {
      "needs_background": "light"
     },
     "output_type": "display_data"
    }
   ],
   "source": [
    "plt.scatter(X_test, y_test)\n",
    "plt.plot(X_test, sk_ypred.reshape(len(y_test)))"
   ]
  },
  {
   "cell_type": "code",
   "execution_count": 18,
   "metadata": {},
   "outputs": [
    {
     "name": "stdout",
     "output_type": "stream",
     "text": [
      "R squared value is 0.99355145778271 .\n",
      "MAE is 0.6823801233444563 .\n",
      "RMSE is 0.7324761547610105 .\n"
     ]
    }
   ],
   "source": [
    "#R value, MAE, and RMSE\n",
    "regression_model_mse = mean_squared_error(y_test, sk_ypred.reshape(len(y_test)))\n",
    "regression_model_mae = mean_absolute_error(y_test, sk_ypred.reshape(len(y_test)))\n",
    "print(\"R squared value is\", model_sk.score(X_sk_train,y_sk_train), \".\")\n",
    "print(\"MAE is\", regression_model_mae, \".\")\n",
    "print(\"RMSE is\", np.sqrt(regression_model_mse), \".\")"
   ]
  },
  {
   "cell_type": "code",
   "execution_count": null,
   "metadata": {},
   "outputs": [],
   "source": []
  }
 ],
 "metadata": {
  "kernelspec": {
   "display_name": "Python 3",
   "language": "python",
   "name": "python3"
  },
  "language_info": {
   "codemirror_mode": {
    "name": "ipython",
    "version": 3
   },
   "file_extension": ".py",
   "mimetype": "text/x-python",
   "name": "python",
   "nbconvert_exporter": "python",
   "pygments_lexer": "ipython3",
   "version": "3.6.7"
  }
 },
 "nbformat": 4,
 "nbformat_minor": 2
}
